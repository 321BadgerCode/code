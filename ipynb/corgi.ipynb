{
 "cells": [
  {
   "attachments": {},
   "cell_type": "markdown",
   "metadata": {},
   "source": [
    "The Problem:\n",
    "Given n Corgis and m friendship bonds between them, determine the number of Corgis that\n",
    "Charles can expect to take home, if he picks one Corgi at random.\n",
    "The Input:\n",
    "The first line contains a single, positive integer, s, which is the number of distinct scenarios to\n",
    "consider. For each scenario, the first line contains a two integers, n and m (1<=n<=1000; 0<=m<=1000), representing the number of Corgis that exist in the pond and the number of friendship bonds, respectively. The following m lines of the scenario will contain friendship\n",
    "bonds, if any, and consist of two integers, u and v (1<=u<=n; 1<=v<=n), meaning that Corgi\n",
    "number u and Corgi number v are friends.\n",
    "The Output:\n",
    "For each scenario, output “Pond #i: x” where i is the number of the pond (in the order of the\n",
    "input, starting with 1) and x is the expected number of Corgis that Charles can expect to take\n",
    "with him for this pond to 3 decimal places and rounded. For example, 12.1713 rounds to 12.171,\n",
    "12.1715 rounds to 12.172, and 12.1718 rounds to 12.172."
   ]
  },
  {
   "attachments": {},
   "cell_type": "markdown",
   "metadata": {},
   "source": [
    "This problem can be solved by using the concept of expected value. The expected value of the number of Corgis that Charles can take home is equal to the sum of the probability of each Corgi multiplied by the number of Corgis that will be taken home if that Corgi is picked.\n",
    "\n",
    "First, we need to find the probability of each Corgi being picked. Since Charles is picking one Corgi at random, the probability of each Corgi being picked is 1/n.\n",
    "\n",
    "Next, we need to find the number of Corgis that will be taken home if a specific Corgi is picked. This number is equal to the size of the connected component that contains that Corgi. We can use the concept of union-find to find the size of the connected component for each Corgi.\n",
    "\n",
    "Finally, we can calculate the expected value by multiplying the probability of each Corgi being picked by the number of Corgis that will be taken home if that Corgi is picked, and summing over all Corgis.\n",
    "\n",
    "In the code, we'll use an array size[] to store the size of each connected component and an array parent[] to store the parent of each Corgi. We'll also use a variable total to store the total number of Corgis in all the connected components.\n",
    "\n",
    "For each scenario, we'll initialize the array size[] and the array parent[] to 1 and itself respectively for each Corgi. We'll also initialize the variable total to n. Then for each friendship bond, we'll use union operation to merge the connected component of the two Corgis and decrease total by 1. Finally, we'll calculate the expected value using the formula mentioned above and print it in the format \"Pond #i: x\" where i is the number of the pond and x is the expected number of Corgis that Charles can expect to take."
   ]
  },
  {
   "cell_type": "code",
   "execution_count": 3,
   "metadata": {},
   "outputs": [],
   "source": [
    "def find(parent,u):\n",
    "\tif parent[u] != u:\n",
    "\t\tparent[u] = find(parent,parent[u])\n",
    "\treturn parent[u]\n",
    "\n",
    "def union(parent,size,u, v):\n",
    "\troot_u, root_v = find(parent,u), find(parent,v)\n",
    "\tif root_u != root_v:\n",
    "\t\tif size[root_u] > size[root_v]:\n",
    "\t\t\troot_u, root_v = root_v, root_u\n",
    "\t\tparent[root_u] = root_v\n",
    "\t\tsize[root_v] += size[root_u]"
   ]
  },
  {
   "cell_type": "code",
   "execution_count": 4,
   "metadata": {},
   "outputs": [
    {
     "name": "stdout",
     "output_type": "stream",
     "text": [
      "13\n"
     ]
    }
   ],
   "source": [
    "#input file.\n",
    "file:str=open(\"./in.txt\",'r').read().split('\\n')\n",
    "\n",
    "# Number of scenarios\n",
    "s:int=int(file[0])\n",
    "#s:int=2\n",
    "print(s)"
   ]
  },
  {
   "cell_type": "code",
   "execution_count": 5,
   "metadata": {},
   "outputs": [
    {
     "name": "stdout",
     "output_type": "stream",
     "text": [
      "i 1 4 2\n",
      "j 0 1 2\n",
      "j 1 3 4\n",
      "Pond #1: 2.000\n",
      "i 2 1 2\n",
      "j 0 3 4\n"
     ]
    },
    {
     "ename": "IndexError",
     "evalue": "list index out of range",
     "output_type": "error",
     "traceback": [
      "\u001b[0;31m---------------------------------------------------------------------------\u001b[0m",
      "\u001b[0;31mIndexError\u001b[0m                                Traceback (most recent call last)",
      "\u001b[1;32m/home/badger/document/code/ipynb/corgi.ipynb Cell 5\u001b[0m in \u001b[0;36m1\n\u001b[1;32m     <a href='vscode-notebook-cell:/home/badger/document/code/ipynb/corgi.ipynb#W4sZmlsZQ%3D%3D?line=14'>15</a>\u001b[0m u,v\u001b[39m=\u001b[39m\u001b[39mmap\u001b[39m(\u001b[39mint\u001b[39m,file[(i\u001b[39m+\u001b[39mj)\u001b[39m+\u001b[39m\u001b[39m1\u001b[39m]\u001b[39m.\u001b[39msplit())\n\u001b[1;32m     <a href='vscode-notebook-cell:/home/badger/document/code/ipynb/corgi.ipynb#W4sZmlsZQ%3D%3D?line=15'>16</a>\u001b[0m \u001b[39mprint\u001b[39m(\u001b[39m\"\u001b[39m\u001b[39mj\u001b[39m\u001b[39m\"\u001b[39m,j,u,v)\n\u001b[0;32m---> <a href='vscode-notebook-cell:/home/badger/document/code/ipynb/corgi.ipynb#W4sZmlsZQ%3D%3D?line=16'>17</a>\u001b[0m root_u, root_v \u001b[39m=\u001b[39m find(parent,u), find(parent,v)\n\u001b[1;32m     <a href='vscode-notebook-cell:/home/badger/document/code/ipynb/corgi.ipynb#W4sZmlsZQ%3D%3D?line=17'>18</a>\u001b[0m \u001b[39mif\u001b[39;00m root_u \u001b[39m!=\u001b[39m root_v:\n\u001b[1;32m     <a href='vscode-notebook-cell:/home/badger/document/code/ipynb/corgi.ipynb#W4sZmlsZQ%3D%3D?line=18'>19</a>\u001b[0m \tunion(parent,size,root_u, root_v)\n",
      "\u001b[1;32m/home/badger/document/code/ipynb/corgi.ipynb Cell 5\u001b[0m in \u001b[0;36m2\n\u001b[1;32m      <a href='vscode-notebook-cell:/home/badger/document/code/ipynb/corgi.ipynb#W4sZmlsZQ%3D%3D?line=0'>1</a>\u001b[0m \u001b[39mdef\u001b[39;00m \u001b[39mfind\u001b[39m(parent,u):\n\u001b[0;32m----> <a href='vscode-notebook-cell:/home/badger/document/code/ipynb/corgi.ipynb#W4sZmlsZQ%3D%3D?line=1'>2</a>\u001b[0m \t\u001b[39mif\u001b[39;00m parent[u] \u001b[39m!=\u001b[39m u:\n\u001b[1;32m      <a href='vscode-notebook-cell:/home/badger/document/code/ipynb/corgi.ipynb#W4sZmlsZQ%3D%3D?line=2'>3</a>\u001b[0m \t\tparent[u] \u001b[39m=\u001b[39m find(parent,parent[u])\n\u001b[1;32m      <a href='vscode-notebook-cell:/home/badger/document/code/ipynb/corgi.ipynb#W4sZmlsZQ%3D%3D?line=3'>4</a>\u001b[0m \t\u001b[39mreturn\u001b[39;00m parent[u]\n",
      "\u001b[0;31mIndexError\u001b[0m: list index out of range"
     ]
    }
   ],
   "source": [
    "# Iterate over scenarios\n",
    "for i in range(1, s+1):\n",
    "\t#n, m = map(int, input().split())\n",
    "\tn,m=map(int,file[i].split())\n",
    "\tprint(\"i\",i,n,m)\n",
    "\n",
    "\t# Initialize arrays and variables\n",
    "\tparent = [i for i in range(n+1)]\n",
    "\tsize = [1 for i in range(n+1)]\n",
    "\ttotal = n\n",
    "\n",
    "\t# Iterate over friendship bonds\n",
    "\tfor j in range(m):\n",
    "\t\t#u, v = map(int, input().split())\n",
    "\t\tu,v=map(int,file[(i+j)+1].split())\n",
    "\t\tprint(\"j\",j,u,v)\n",
    "\t\troot_u, root_v = find(parent,u), find(parent,v)\n",
    "\t\tif root_u != root_v:\n",
    "\t\t\tunion(parent,size,root_u, root_v)\n",
    "\t\t\ttotal -= 1\n",
    "\n",
    "\t# Calculate expected value\n",
    "\texpected = 0\n",
    "\tfor k in range(1, n+1):\n",
    "\t\troot = find(parent,k)\n",
    "\t\texpected += size[root] / n\n",
    "\n",
    "\t# Print output\n",
    "\tprint(\"Pond #{}: {:.3f}\".format(i, expected))"
   ]
  },
  {
   "cell_type": "code",
   "execution_count": null,
   "metadata": {},
   "outputs": [
    {
     "name": "stdout",
     "output_type": "stream",
     "text": [
      "Pond #1: 1.414\n",
      "Pond #2: 2.449\n",
      "Pond #3: 9.950\n",
      "Pond #4: 31.607\n",
      "Pond #5: 0.000\n",
      "Pond #6: 0.000\n",
      "Pond #7: 0.000\n",
      "Pond #8: 0.000\n",
      "Pond #9: 0.000\n",
      "Pond #10: 0.000\n",
      "Pond #11: 14.142\n",
      "Pond #12: 14.177\n",
      "Pond #13: 12.530\n"
     ]
    }
   ],
   "source": [
    "import math\n",
    "\n",
    "def find(parent,u):\n",
    "\tif parent[u] != u:\n",
    "\t\tparent[u] = find(parent,parent[u])\n",
    "\treturn parent[u]\n",
    "\n",
    "def union(parent,size,root_u,root_v):\n",
    "\tif size[root_u] < size[root_v]:\n",
    "\t\tparent[root_u] = root_v\n",
    "\t\tsize[root_v] += size[root_u]\n",
    "\telse:\n",
    "\t\tparent[root_v] = root_u\n",
    "\t\tsize[root_u] += size[root_v]\n",
    "\n",
    "file = open(\"./in.txt\",'r').read().split('\\n')\n",
    "s = int(file[0])\n",
    "start = 1\n",
    "for i in range(s):\n",
    "    n, m = [int(x) for x in file[start].split()]\n",
    "    parent = [i for i in range(n)]\n",
    "    size = [1 for _ in range(n)]\n",
    "    for j in range(m):\n",
    "        u, v = map(int, file[start + j + 1].split())\n",
    "        root_u, root_v = find(parent, u - 1), find(parent, v - 1)\n",
    "        if root_u != root_v:\n",
    "            union(parent, size, root_u, root_v)\n",
    "    print(\"Pond #{}: {:.3f}\".format(i+1, math.sqrt(n - size[find(parent, 0)])))\n",
    "    start += (m + 1)\n"
   ]
  }
 ],
 "metadata": {
  "kernelspec": {
   "display_name": "Python 3 (ipykernel)",
   "language": "python",
   "name": "python3"
  },
  "language_info": {
   "codemirror_mode": {
    "name": "ipython",
    "version": 3
   },
   "file_extension": ".py",
   "mimetype": "text/x-python",
   "name": "python",
   "nbconvert_exporter": "python",
   "pygments_lexer": "ipython3",
   "version": "3.11.2"
  },
  "orig_nbformat": 4,
  "vscode": {
   "interpreter": {
    "hash": "e55666fbbf217aa3df372b978577f47b6009e2f78e2ec76a584f49cd54a1e62c"
   }
  }
 },
 "nbformat": 4,
 "nbformat_minor": 2
}
